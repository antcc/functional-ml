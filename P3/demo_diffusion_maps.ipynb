{
 "cells": [
  {
   "cell_type": "markdown",
   "metadata": {},
   "source": [
    "<div style=\"font-weight: bold; color:#5D8AA8\" align=\"center\">\n",
    "    <div style=\"font-size: xx-large\">Métodos Funcionales en Aprendizaje Automático</div><br>\n",
    "    <div style=\"font-size: x-large; color:gray\">Homework 03 - Diffusion Maps</div><br>\n",
    "    <div style=\"font-size: large\">Authors</div>Luis Antonio Ortega Andrés<br>Antonio Coín Castro</div><hr>\n",
    "</div>"
   ]
  },
  {
   "cell_type": "markdown",
   "metadata": {},
   "source": [
    "**Initial Configuration**"
   ]
  },
  {
   "cell_type": "markdown",
   "metadata": {},
   "source": [
    "This cell defines the configuration of Jupyter Notebooks."
   ]
  },
  {
   "cell_type": "code",
   "execution_count": 5,
   "metadata": {
    "ExecuteTime": {
     "end_time": "2021-03-29T16:44:10.020007Z",
     "start_time": "2021-03-29T16:44:09.946761Z"
    }
   },
   "outputs": [
    {
     "data": {
      "text/html": [
       "<style>\n",
       "    .qst {background-color: #b1cee3; padding:10px; border-radius: 5px; border: solid 2px #5D8AA8;}\n",
       "    .qst:before {font-weight: bold; content:\"Exercise\"; display: block; margin: 0px 10px 10px 10px;}\n",
       "    h1, h2, h3 {color: #5D8AA8;}\n",
       "    .text_cell_render p {text-align: justify; text-justify: inter-word;}\n",
       "</style>\n"
      ],
      "text/plain": [
       "<IPython.core.display.HTML object>"
      ]
     },
     "metadata": {},
     "output_type": "display_data"
    }
   ],
   "source": [
    "%%html\n",
    "<style>\n",
    "    .qst {background-color: #b1cee3; padding:10px; border-radius: 5px; border: solid 2px #5D8AA8;}\n",
    "    .qst:before {font-weight: bold; content:\"Exercise\"; display: block; margin: 0px 10px 10px 10px;}\n",
    "    h1, h2, h3 {color: #5D8AA8;}\n",
    "    .text_cell_render p {text-align: justify; text-justify: inter-word;}\n",
    "</style>"
   ]
  },
  {
   "cell_type": "code",
   "execution_count": 6,
   "metadata": {
    "ExecuteTime": {
     "end_time": "2021-03-29T16:44:10.984513Z",
     "start_time": "2021-03-29T16:44:10.917940Z"
    }
   },
   "outputs": [
    {
     "name": "stdout",
     "output_type": "stream",
     "text": [
      "The autoreload extension is already loaded. To reload it, use:\n",
      "  %reload_ext autoreload\n"
     ]
    }
   ],
   "source": [
    "%matplotlib inline\n",
    "%load_ext autoreload\n",
    "%autoreload 2"
   ]
  },
  {
   "cell_type": "markdown",
   "metadata": {},
   "source": [
    "This cell imports the packages to be used."
   ]
  },
  {
   "cell_type": "code",
   "execution_count": 7,
   "metadata": {
    "ExecuteTime": {
     "end_time": "2021-03-29T16:44:13.987712Z",
     "start_time": "2021-03-29T16:44:13.929835Z"
    }
   },
   "outputs": [],
   "source": [
    "import numpy as np\n",
    "\n",
    "import matplotlib\n",
    "import matplotlib.pyplot as plt\n",
    "from matplotlib import colors\n",
    "\n",
    "from sklearn.datasets import make_blobs, make_swiss_roll, make_s_curve\n",
    "\n",
    "from mpl_toolkits.mplot3d import Axes3D\n",
    "Axes3D\n",
    "\n",
    "matplotlib.rc('figure', figsize=(15, 5))\n",
    "\n",
    "seed = 123\n",
    "my_cmap = plt.cm.Spectral"
   ]
  },
  {
   "cell_type": "markdown",
   "metadata": {},
   "source": [
    "# Introduction"
   ]
  },
  {
   "cell_type": "markdown",
   "metadata": {},
   "source": [
    "This practical assignment consists in implementing the manifold learning method **Diffusion Maps**, following the *scikit-learn* template for manifold learning methods.\n",
    "\n",
    "We will design two main functions: one for training the algorithm, obtaining the affinity matrix and the embedded coordinates, and a second one for extending these coordinates for new patterns."
   ]
  },
  {
   "cell_type": "markdown",
   "metadata": {},
   "source": [
    "# Requirements"
   ]
  },
  {
   "cell_type": "markdown",
   "metadata": {},
   "source": [
    "The objective of this assignment is to complete the class DM sketched below, which should contain at least the following methods."
   ]
  },
  {
   "cell_type": "markdown",
   "metadata": {},
   "source": [
    "`__init__(self, sigma, n_components, step=1, alpha=1)`"
   ]
  },
  {
   "cell_type": "markdown",
   "metadata": {},
   "source": [
    "* This is the construction method for the class, with the following parameters:\n",
    "    * `sigma`: Kernel parameter for the Gaussian kernel.\n",
    "    * `n_components`: dimension of the embedding.\n",
    "    * `step`: step in the Markov Chain.\n",
    "    * `alpha`: density influence. It should a value in `[0,1]`.\n",
    "* This method should only store the parameters in fields of the class, to be used when needed."
   ]
  },
  {
   "cell_type": "markdown",
   "metadata": {},
   "source": [
    "`fit(self, X, y=None)`"
   ]
  },
  {
   "cell_type": "markdown",
   "metadata": {},
   "source": [
    "* This is the training method, the one that performs the Diffusion Maps algorithm. \n",
    "\n",
    "* This method should store the affinity matrix and also the eigenvectors to computed the transformation."
   ]
  },
  {
   "cell_type": "markdown",
   "metadata": {},
   "source": [
    "`fit_transform(self, X, y=None)`"
   ]
  },
  {
   "cell_type": "markdown",
   "metadata": {},
   "source": [
    "* This method returns the embedding coordinates for the training data.\n",
    "* It should also store the affinity matrix and the coordinates needed to compute the transformation (for example over new, unseen patterns)."
   ]
  },
  {
   "cell_type": "markdown",
   "metadata": {},
   "source": [
    "`transform(self, X)`"
   ]
  },
  {
   "cell_type": "markdown",
   "metadata": {},
   "source": [
    "* This method will obtain approximated coordinates for new, unseen data points. \n",
    "* It uses for this purpose the Nyström Formula."
   ]
  },
  {
   "cell_type": "markdown",
   "metadata": {},
   "source": [
    "## Some recommendations"
   ]
  },
  {
   "cell_type": "markdown",
   "metadata": {},
   "source": [
    "* It should allow to fix all the DM possibilities (different steps, density normalization...). To allow a change in the kernel function could be also a nice idea.\n",
    "* Implement all the auxiliary functions that you may need, for example, for deciding the best parameter values in each case.\n",
    "* It could be a nice idea to offer a deterministic output, that do not depend on the sign of the eigenvectors."
   ]
  },
  {
   "cell_type": "markdown",
   "metadata": {},
   "source": [
    "# Implementation"
   ]
  },
  {
   "cell_type": "markdown",
   "metadata": {},
   "source": [
    "<div class=\"qst\">\n",
    "\n",
    "* Complete the `DM` class below, satisfying the described requirements.\n",
    "\n",
    "</div>"
   ]
  },
  {
   "cell_type": "markdown",
   "metadata": {},
   "source": [
    "**TODO**\n",
    "\n",
    "- usar SVD flip y seed para tener output determinístico\n",
    "- permitir varios kernels estándar, también cualquier función de kernel (callable) y también la opción de 'precomputed'"
   ]
  },
  {
   "cell_type": "code",
   "execution_count": null,
   "metadata": {},
   "outputs": [],
   "source": [
    "from sklearn.base import BaseEstimator, TransformerMixin\n",
    "\n",
    "class DM(TransformerMixin, BaseEstimator):\n",
    "    \"\"\"Diffusion Maps algorithm for manifold learning.\n",
    "    \n",
    "    We use the data to define a weighted graph based on  \n",
    "    similarity, define a random walk over the graph, and \n",
    "    use the transition probabilities to find an embedding\n",
    "    to a \n",
    "    \n",
    "    [1] Coifman, R. R., & Lafon, S. (2006). Diffusion maps. \n",
    "        Applied and computational harmonic analysis, 21(1), 5-30.\n",
    "    \"\"\"\n",
    "    def __init__(\n",
    "        self, \n",
    "        n_components=2,\n",
    "        sigma=None,\n",
    "        step=1, \n",
    "        alpha=1.0\n",
    "    ):\n",
    "        # Assignment of the hyper-parameters (you can complete it).\n",
    "        self.sigma = sigma\n",
    "        self.n_components = n_components\n",
    "        self.step = step\n",
    "        self.alpha = alpha\n",
    "\n",
    "    def fit(self, X, y=None):\n",
    "        \"\"\"Compute the embedding vectors for data X\n",
    "        Parameters\n",
    "        ----------\n",
    "        X : array-like of shape [n_samples, n_features]\n",
    "            training set.\n",
    "        y : Ignored\n",
    "        Returns\n",
    "        -------\n",
    "        self : returns an instance of self.\n",
    "        \"\"\"\n",
    "        \n",
    "        return self\n",
    "\n",
    "    def fit_transform(self, X, y=None):\n",
    "        \"\"\"Compute the embedding vectors for data X and transform X.\n",
    "        Parameters\n",
    "        ----------\n",
    "        X : array-like of shape [n_samples, n_features]\n",
    "            training set.\n",
    "        y : Ignored\n",
    "        Returns\n",
    "        -------\n",
    "        X_red : array-like, shape (n_samples, n_components)\n",
    "        \"\"\"\n",
    "        return X_red\n",
    "    \n",
    "    def transform(self, X):\n",
    "        \"\"\"Transform X.\n",
    "        This is implemented using the Nyström formula.\n",
    "        Parameters\n",
    "        ----------\n",
    "        X : array-like, shape (n_samples, n_features).\n",
    "        Returns\n",
    "        -------\n",
    "        X_red : array-like, shape (n_samples, n_components)\n",
    "        \"\"\"\n",
    "        \n",
    "        return X_red"
   ]
  },
  {
   "cell_type": "markdown",
   "metadata": {},
   "source": [
    "# Experiments with DM"
   ]
  },
  {
   "cell_type": "markdown",
   "metadata": {},
   "source": [
    "<div class=\"qst\">\n",
    "\n",
    "* Obtain some good embedded coordinates for the three training datasets specified below.\n",
    "    \n",
    "* Extend its coordinates for the new points.\n",
    "    \n",
    "</div>"
   ]
  },
  {
   "cell_type": "markdown",
   "metadata": {},
   "source": [
    "## Dataset 1: two blobs"
   ]
  },
  {
   "cell_type": "code",
   "execution_count": null,
   "metadata": {},
   "outputs": [],
   "source": [
    "N = 1000\n",
    "\n",
    "X, y = make_blobs(n_samples=N, n_features=50, centers=2,\n",
    "                  cluster_std=3.0, random_state=seed)\n",
    "y[y != 1] = -1\n",
    "plt.scatter(X[:,0], X[:,1], c=y, cmap=my_cmap)\n",
    "plt.axis('equal')\n",
    "plt.show()\n",
    "\n",
    "N_new=100\n",
    "X_new, y_new = make_blobs(n_samples=N_new, n_features=50, centers=2,\n",
    "                  cluster_std=3.0, random_state=seed+1)"
   ]
  },
  {
   "cell_type": "code",
   "execution_count": null,
   "metadata": {},
   "outputs": [],
   "source": []
  },
  {
   "cell_type": "markdown",
   "metadata": {},
   "source": [
    "## Dataset 2: the swiss roll"
   ]
  },
  {
   "cell_type": "code",
   "execution_count": null,
   "metadata": {},
   "outputs": [],
   "source": [
    "N=1500\n",
    "X, color = make_swiss_roll(n_samples=N, random_state=seed)\n",
    "\n",
    "fig = plt.figure()\n",
    "ax = fig.add_subplot(111, projection='3d')\n",
    "ax.scatter(X[:, 0], X[:, 1], X[:, 2], c=color, cmap=my_cmap)\n",
    "plt.show()\n",
    "\n",
    "N_new=100\n",
    "X_new, color_new = make_swiss_roll(n_samples=N_new, random_state=seed+1)"
   ]
  },
  {
   "cell_type": "code",
   "execution_count": null,
   "metadata": {},
   "outputs": [],
   "source": []
  },
  {
   "cell_type": "markdown",
   "metadata": {},
   "source": [
    "## Dataset 3: the S curve"
   ]
  },
  {
   "cell_type": "code",
   "execution_count": null,
   "metadata": {},
   "outputs": [],
   "source": [
    "N = 1000\n",
    "X, color = make_s_curve(N, random_state=seed)\n",
    "\n",
    "fig = plt.figure()\n",
    "ax = fig.add_subplot(111, projection='3d')\n",
    "ax.scatter(X[:, 0], X[:, 1], X[:, 2], c=color, cmap=my_cmap)\n",
    "plt.show()\n",
    "\n",
    "N_new = 100\n",
    "X_new, color_new = make_s_curve(N_new, random_state=seed+1)"
   ]
  },
  {
   "cell_type": "code",
   "execution_count": null,
   "metadata": {},
   "outputs": [],
   "source": []
  },
  {
   "cell_type": "markdown",
   "metadata": {},
   "source": [
    "<div class=\"qst\">\n",
    "\n",
    "* Do you consider the embedding obtained is good for the previous datasets? Is it the expected one? Why?\n",
    "    \n",
    "* How sensible is the method to its hyper-parameters? Specify the best values that you have found and the technique employed for it.\n",
    "    * Check how much influence the sample density (you can vary N for each dataset).\n",
    "    * Check what happens if the number of steps `steps` grows.\n",
    "    \n",
    "* What do you think are the main advantage and disadvantage of this method?\n",
    "    \n",
    "</div>"
   ]
  },
  {
   "cell_type": "markdown",
   "metadata": {},
   "source": []
  }
 ],
 "metadata": {
  "@webio": {
   "lastCommId": null,
   "lastKernelId": null
  },
  "kernelspec": {
   "display_name": "Python 3",
   "language": "python",
   "name": "python3"
  },
  "language_info": {
   "codemirror_mode": {
    "name": "ipython",
    "version": 3
   },
   "file_extension": ".py",
   "mimetype": "text/x-python",
   "name": "python",
   "nbconvert_exporter": "python",
   "pygments_lexer": "ipython3",
   "version": "3.9.2"
  },
  "latex_envs": {
   "LaTeX_envs_menu_present": false,
   "autoclose": true,
   "autocomplete": false,
   "bibliofile": "bibliography.bib",
   "cite_by": "apalike",
   "current_citInitial": 1,
   "eqLabelWithNumbers": true,
   "eqNumInitial": 1,
   "hotkeys": {
    "equation": "Ctrl-E",
    "itemize": "Ctrl-I"
   },
   "labels_anchors": false,
   "latex_user_defs": false,
   "report_style_numbering": false,
   "user_envs_cfg": false
  },
  "toc": {
   "base_numbering": 1,
   "nav_menu": {},
   "number_sections": false,
   "sideBar": true,
   "skip_h1_title": false,
   "title_cell": "Table of Contents",
   "title_sidebar": "Contents",
   "toc_cell": false,
   "toc_position": {
    "height": "calc(100% - 180px)",
    "left": "10px",
    "top": "150px",
    "width": "352px"
   },
   "toc_section_display": true,
   "toc_window_display": false
  },
  "varInspector": {
   "cols": {
    "lenName": 16,
    "lenType": 16,
    "lenVar": 40
   },
   "kernels_config": {
    "python": {
     "delete_cmd_postfix": "",
     "delete_cmd_prefix": "del ",
     "library": "var_list.py",
     "varRefreshCmd": "print(var_dic_list())"
    },
    "r": {
     "delete_cmd_postfix": ") ",
     "delete_cmd_prefix": "rm(",
     "library": "var_list.r",
     "varRefreshCmd": "cat(var_dic_list()) "
    }
   },
   "types_to_exclude": [
    "module",
    "function",
    "builtin_function_or_method",
    "instance",
    "_Feature"
   ],
   "window_display": false
  }
 },
 "nbformat": 4,
 "nbformat_minor": 4
}
